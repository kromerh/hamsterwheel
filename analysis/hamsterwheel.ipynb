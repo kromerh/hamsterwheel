{
 "cells": [
  {
   "cell_type": "code",
   "execution_count": 8,
   "metadata": {},
   "outputs": [],
   "source": [
    "\n",
    "import sys\n",
    "# caution: path[0] is reserved for script path (or '' in REPL)\n",
    "sys.path.insert(1, './..//python//utils')\n",
    "\n"
   ]
  },
  {
   "cell_type": "code",
   "execution_count": 9,
   "metadata": {},
   "outputs": [
    {
     "ename": "ModuleNotFoundError",
     "evalue": "No module named 'utils'",
     "output_type": "error",
     "traceback": [
      "\u001b[0;31m---------------------------------------------------------------------------\u001b[0m",
      "\u001b[0;31mModuleNotFoundError\u001b[0m                       Traceback (most recent call last)",
      "\u001b[1;32m/Users/HeikoKromer/Library/CloudStorage/OneDrive-Personal/02_Arbeit/2021-_DONE/06_Blogpost/01_hamsterwheel/repo/hamsterwheel/src/analysis/hamsterwheel.ipynb Cell 2\u001b[0m in \u001b[0;36m<cell line: 1>\u001b[0;34m()\u001b[0m\n\u001b[0;32m----> <a href='vscode-notebook-cell:/Users/HeikoKromer/Library/CloudStorage/OneDrive-Personal/02_Arbeit/2021-_DONE/06_Blogpost/01_hamsterwheel/repo/hamsterwheel/src/analysis/hamsterwheel.ipynb#W3sZmlsZQ%3D%3D?line=0'>1</a>\u001b[0m \u001b[39mfrom\u001b[39;00m \u001b[39mutils\u001b[39;00m \u001b[39mimport\u001b[39;00m download_s3_folder\n",
      "\u001b[0;31mModuleNotFoundError\u001b[0m: No module named 'utils'"
     ]
    }
   ],
   "source": [
    "from utils import download_s3_folder"
   ]
  },
  {
   "cell_type": "code",
   "execution_count": 2,
   "metadata": {},
   "outputs": [
    {
     "name": "stdout",
     "output_type": "stream",
     "text": [
      "['c:\\\\Users\\\\heiko\\\\OneDrive\\\\02_Arbeit\\\\2021-_DONE\\\\06_Blogpost\\\\01_hamsterwheel\\\\repo\\\\hamsterwheel\\\\src\\\\analysis', 'C:\\\\Users\\\\heiko\\\\.pyenv\\\\pyenv-win\\\\versions\\\\3.10.5\\\\python310.zip', 'C:\\\\Users\\\\heiko\\\\.pyenv\\\\pyenv-win\\\\versions\\\\3.10.5\\\\DLLs', 'C:\\\\Users\\\\heiko\\\\.pyenv\\\\pyenv-win\\\\versions\\\\3.10.5\\\\lib', 'C:\\\\Users\\\\heiko\\\\.pyenv\\\\pyenv-win\\\\versions\\\\3.10.5', 'c:\\\\Users\\\\heiko\\\\OneDrive\\\\02_Arbeit\\\\2021-_DONE\\\\06_Blogpost\\\\01_hamsterwheel\\\\repo\\\\env', '', 'c:\\\\Users\\\\heiko\\\\OneDrive\\\\02_Arbeit\\\\2021-_DONE\\\\06_Blogpost\\\\01_hamsterwheel\\\\repo\\\\env\\\\lib\\\\site-packages', 'c:\\\\Users\\\\heiko\\\\OneDrive\\\\02_Arbeit\\\\2021-_DONE\\\\06_Blogpost\\\\01_hamsterwheel\\\\repo\\\\env\\\\lib\\\\site-packages\\\\win32', 'c:\\\\Users\\\\heiko\\\\OneDrive\\\\02_Arbeit\\\\2021-_DONE\\\\06_Blogpost\\\\01_hamsterwheel\\\\repo\\\\env\\\\lib\\\\site-packages\\\\win32\\\\lib', 'c:\\\\Users\\\\heiko\\\\OneDrive\\\\02_Arbeit\\\\2021-_DONE\\\\06_Blogpost\\\\01_hamsterwheel\\\\repo\\\\env\\\\lib\\\\site-packages\\\\Pythonwin']\n"
     ]
    }
   ],
   "source": [
    "import sys\n",
    "print(sys.path)\n"
   ]
  },
  {
   "cell_type": "code",
   "execution_count": null,
   "metadata": {},
   "outputs": [],
   "source": []
  }
 ],
 "metadata": {
  "kernelspec": {
   "display_name": "env",
   "language": "python",
   "name": "python3"
  },
  "language_info": {
   "codemirror_mode": {
    "name": "ipython",
    "version": 3
   },
   "file_extension": ".py",
   "mimetype": "text/x-python",
   "name": "python",
   "nbconvert_exporter": "python",
   "pygments_lexer": "ipython3",
   "version": "3.10.5"
  },
  "orig_nbformat": 4,
  "vscode": {
   "interpreter": {
    "hash": "5639ad65a36494dce1b1b40ca8c97a6cfd8fc09f7f395133212a12dd66d3f440"
   }
  }
 },
 "nbformat": 4,
 "nbformat_minor": 2
}
